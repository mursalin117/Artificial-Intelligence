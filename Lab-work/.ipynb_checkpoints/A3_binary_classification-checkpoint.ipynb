{
 "cells": [
  {
   "cell_type": "code",
   "execution_count": null,
   "id": "ca9cc7b2",
   "metadata": {},
   "outputs": [],
   "source": [
    "!pip3 in"
   ]
  },
  {
   "cell_type": "code",
   "execution_count": 4,
   "id": "ac95bd5e",
   "metadata": {},
   "outputs": [
    {
     "ename": "ModuleNotFoundError",
     "evalue": "No module named 'tensorflow'",
     "output_type": "error",
     "traceback": [
      "\u001b[0;31m---------------------------------------------------------------------------\u001b[0m",
      "\u001b[0;31mModuleNotFoundError\u001b[0m                       Traceback (most recent call last)",
      "Cell \u001b[0;32mIn[4], line 1\u001b[0m\n\u001b[0;32m----> 1\u001b[0m \u001b[38;5;28;01mfrom\u001b[39;00m \u001b[38;5;21;01mtensorflow\u001b[39;00m\u001b[38;5;21;01m.\u001b[39;00m\u001b[38;5;21;01mkeras\u001b[39;00m\u001b[38;5;21;01m.\u001b[39;00m\u001b[38;5;21;01mlayers\u001b[39;00m \u001b[38;5;28;01mimport\u001b[39;00m Conv2D, Flatten, Dense, MaxPooling2D\n\u001b[1;32m      2\u001b[0m \u001b[38;5;28;01mfrom\u001b[39;00m \u001b[38;5;21;01mtensorflow\u001b[39;00m\u001b[38;5;21;01m.\u001b[39;00m\u001b[38;5;21;01mkeras\u001b[39;00m\u001b[38;5;21;01m.\u001b[39;00m\u001b[38;5;21;01mmodels\u001b[39;00m \u001b[38;5;28;01mimport\u001b[39;00m Model, Sequential\n\u001b[1;32m      3\u001b[0m \u001b[38;5;28;01mfrom\u001b[39;00m \u001b[38;5;21;01mtensorflow\u001b[39;00m\u001b[38;5;21;01m.\u001b[39;00m\u001b[38;5;21;01mkeras\u001b[39;00m\u001b[38;5;21;01m.\u001b[39;00m\u001b[38;5;21;01mpreprocessing\u001b[39;00m\u001b[38;5;21;01m.\u001b[39;00m\u001b[38;5;21;01mimage\u001b[39;00m \u001b[38;5;28;01mimport\u001b[39;00m ImageDataGenerator\n",
      "\u001b[0;31mModuleNotFoundError\u001b[0m: No module named 'tensorflow'"
     ]
    }
   ],
   "source": [
    "from tensorflow.keras.layers import Conv2D, Flatten, Dense, MaxPooling2D\n",
    "from tensorflow.keras.models import Model, Sequential\n",
    "from tensorflow.keras.preprocessing.image import ImageDataGenerator\n",
    "import os\n",
    "import cv2 as cv\n",
    "import numpy as np"
   ]
  },
  {
   "cell_type": "code",
   "execution_count": 3,
   "id": "a4423cb3",
   "metadata": {},
   "outputs": [
    {
     "name": "stdout",
     "output_type": "stream",
     "text": [
      "Package                      Version\n",
      "---------------------------- -----------\n",
      "absl-py                      1.2.0\n",
      "anyio                        3.6.2\n",
      "argon2-cffi                  21.3.0\n",
      "argon2-cffi-bindings         21.2.0\n",
      "arrow                        1.2.3\n",
      "asttokens                    2.2.1\n",
      "astunparse                   1.6.3\n",
      "attrs                        22.2.0\n",
      "backcall                     0.2.0\n",
      "beautifulsoup4               4.11.1\n",
      "bleach                       5.0.1\n",
      "cachetools                   5.2.0\n",
      "certifi                      2022.6.15\n",
      "cffi                         1.15.1\n",
      "charset-normalizer           2.1.1\n",
      "comm                         0.1.2\n",
      "cycler                       0.11.0\n",
      "debugpy                      1.6.5\n",
      "decorator                    5.1.1\n",
      "defusedxml                   0.7.1\n",
      "entrypoints                  0.4\n",
      "executing                    1.2.0\n",
      "fastjsonschema               2.16.2\n",
      "flatbuffers                  2.0.7\n",
      "fonttools                    4.37.1\n",
      "fqdn                         1.5.1\n",
      "gast                         0.4.0\n",
      "google-auth                  2.11.0\n",
      "google-auth-oauthlib         0.4.6\n",
      "google-pasta                 0.2.0\n",
      "grpcio                       1.48.1\n",
      "h5py                         3.7.0\n",
      "idna                         3.3\n",
      "importlib-metadata           4.12.0\n",
      "importlib-resources          5.10.2\n",
      "ipykernel                    6.20.2\n",
      "ipython                      8.8.0\n",
      "ipython-genutils             0.2.0\n",
      "ipywidgets                   8.0.4\n",
      "isoduration                  20.11.0\n",
      "jedi                         0.18.2\n",
      "Jinja2                       3.1.2\n",
      "jsonpointer                  2.3\n",
      "jsonschema                   4.17.3\n",
      "jupyter                      1.0.0\n",
      "jupyter_client               7.4.9\n",
      "jupyter-console              6.4.4\n",
      "jupyter_core                 5.1.3\n",
      "jupyter-events               0.6.3\n",
      "jupyter_server               2.1.0\n",
      "jupyter_server_terminals     0.4.4\n",
      "jupyterlab-pygments          0.2.2\n",
      "jupyterlab-widgets           3.0.5\n",
      "keras                        2.10.0\n",
      "Keras-Preprocessing          1.1.2\n",
      "kiwisolver                   1.4.4\n",
      "libclang                     14.0.6\n",
      "Markdown                     3.4.1\n",
      "MarkupSafe                   2.1.1\n",
      "matplotlib                   3.5.3\n",
      "matplotlib-inline            0.1.6\n",
      "mistune                      2.0.4\n",
      "nbclassic                    0.4.8\n",
      "nbclient                     0.7.2\n",
      "nbconvert                    7.2.8\n",
      "nbformat                     5.7.3\n",
      "nest-asyncio                 1.5.6\n",
      "notebook                     6.5.2\n",
      "notebook_shim                0.2.2\n",
      "numpy                        1.23.2\n",
      "oauthlib                     3.2.0\n",
      "opencv-python                4.6.0.66\n",
      "opt-einsum                   3.3.0\n",
      "packaging                    21.3\n",
      "pandocfilters                1.5.0\n",
      "parso                        0.8.3\n",
      "pexpect                      4.8.0\n",
      "pickleshare                  0.7.5\n",
      "Pillow                       9.2.0\n",
      "pip                          22.2.2\n",
      "pkg_resources                0.0.0\n",
      "pkgutil_resolve_name         1.3.10\n",
      "platformdirs                 2.6.2\n",
      "prometheus-client            0.15.0\n",
      "prompt-toolkit               3.0.36\n",
      "protobuf                     3.19.4\n",
      "psutil                       5.9.4\n",
      "ptyprocess                   0.7.0\n",
      "pure-eval                    0.2.2\n",
      "pyasn1                       0.4.8\n",
      "pyasn1-modules               0.2.8\n",
      "pycparser                    2.21\n",
      "Pygments                     2.14.0\n",
      "pyparsing                    3.0.9\n",
      "pyrsistent                   0.19.3\n",
      "python-dateutil              2.8.2\n",
      "python-json-logger           2.0.4\n",
      "PyYAML                       6.0\n",
      "pyzmq                        25.0.0\n",
      "qtconsole                    5.4.0\n",
      "QtPy                         2.3.0\n",
      "requests                     2.28.1\n",
      "requests-oauthlib            1.3.1\n",
      "rfc3339-validator            0.1.4\n",
      "rfc3986-validator            0.1.1\n",
      "rsa                          4.9\n",
      "Send2Trash                   1.8.0\n",
      "setuptools                   44.0.0\n",
      "six                          1.16.0\n",
      "sniffio                      1.3.0\n",
      "soupsieve                    2.3.2.post1\n",
      "stack-data                   0.6.2\n",
      "tensorboard                  2.10.0\n",
      "tensorboard-data-server      0.6.1\n",
      "tensorboard-plugin-wit       1.8.1\n",
      "tensorflow                   2.10.0\n",
      "tensorflow-estimator         2.10.0\n",
      "tensorflow-io-gcs-filesystem 0.26.0\n",
      "termcolor                    1.1.0\n",
      "terminado                    0.17.1\n",
      "tinycss2                     1.2.1\n",
      "tornado                      6.2\n",
      "traitlets                    5.8.1\n",
      "typing_extensions            4.3.0\n",
      "uri-template                 1.2.0\n",
      "urllib3                      1.26.12\n",
      "wcwidth                      0.2.6\n",
      "webcolors                    1.12\n",
      "webencodings                 0.5.1\n",
      "websocket-client             1.4.2\n",
      "Werkzeug                     2.2.2\n",
      "wheel                        0.37.1\n",
      "widgetsnbextension           4.0.5\n",
      "wrapt                        1.14.1\n",
      "zipp                         3.8.1\n",
      "\n",
      "\u001b[1m[\u001b[0m\u001b[34;49mnotice\u001b[0m\u001b[1;39;49m]\u001b[0m\u001b[39;49m A new release of pip available: \u001b[0m\u001b[31;49m22.2.2\u001b[0m\u001b[39;49m -> \u001b[0m\u001b[32;49m22.3.1\u001b[0m\n",
      "\u001b[1m[\u001b[0m\u001b[34;49mnotice\u001b[0m\u001b[1;39;49m]\u001b[0m\u001b[39;49m To update, run: \u001b[0m\u001b[32;49mpip install --upgrade pip\u001b[0m\n"
     ]
    }
   ],
   "source": [
    "!pip list"
   ]
  },
  {
   "cell_type": "code",
   "execution_count": null,
   "id": "814e2c40",
   "metadata": {},
   "outputs": [],
   "source": [
    "img_size = (224, 224)\n",
    "\n",
    "train_path = './Assignment-3/dataset/training/'\n",
    "test_path = './Assignment-3/dataset/testing/'\n",
    "val_path = './Assignment-3/dataset/validation/'"
   ]
  },
  {
   "cell_type": "code",
   "execution_count": null,
   "id": "623d5a8c",
   "metadata": {},
   "outputs": [],
   "source": [
    "x_train = []\n",
    "for folder in os.listdir(train_path):\n",
    "    sub_path = train_path + '/' + folder\n",
    "    for img in os.listdir(sub_path):\n",
    "        img_path = sub_path + '/' + img\n",
    "        img = cv.imread(img_path, 1)\n",
    "        img = cv.resize(img, img_size)\n",
    "#         print(img.shape)\n",
    "#         break\n",
    "        x_train.append(img)\n",
    "# img.shape"
   ]
  },
  {
   "cell_type": "code",
   "execution_count": null,
   "id": "d1785487",
   "metadata": {},
   "outputs": [],
   "source": [
    "x_test = []\n",
    "for folder in os.listdir(test_path):\n",
    "    sub_path = train_path + '/' + folder\n",
    "    for img in os.listdir(sub_path):\n",
    "        img_path = sub_path + '/' + img\n",
    "        img = cv.imread(img_path, 1)\n",
    "        img = cv.resize(img, img_size)\n",
    "        x_test.append(img)"
   ]
  },
  {
   "cell_type": "code",
   "execution_count": null,
   "id": "7f968f48",
   "metadata": {},
   "outputs": [],
   "source": [
    "x_val = []\n",
    "for folder in os.listdir(val_path):\n",
    "    sub_path = train_path + '/' + folder\n",
    "    for img in os.listdir(sub_path):\n",
    "        img_path = sub_path + '/' + img\n",
    "        img = cv.imread(img_path, 1)\n",
    "        img = cv.resize(img, img_size)\n",
    "        x_val.append(img)"
   ]
  },
  {
   "cell_type": "code",
   "execution_count": null,
   "id": "f328a43d",
   "metadata": {},
   "outputs": [],
   "source": [
    "train_x = np.array(x_train)\n",
    "test_x = np.array(x_test)\n",
    "val_x = np.array(x_val)"
   ]
  },
  {
   "cell_type": "code",
   "execution_count": null,
   "id": "984b5e00",
   "metadata": {},
   "outputs": [],
   "source": [
    "train_x = train_x / 255.0\n",
    "test_x = test_x / 255.0\n",
    "val_x = val_x / 255.0"
   ]
  },
  {
   "cell_type": "code",
   "execution_count": null,
   "id": "1efe6945",
   "metadata": {},
   "outputs": [],
   "source": [
    "train_datagen = ImageDataGenerator(rescale = 1.0 / 255)\n",
    "test_datagen = ImageDataGenerator(rescale = 1.0 / 255)\n",
    "val_dtagen = ImageDataGenerator(rescale = 1.0 / 255)"
   ]
  },
  {
   "cell_type": "code",
   "execution_count": null,
   "id": "e8b10369",
   "metadata": {},
   "outputs": [],
   "source": [
    "train_set = train_datagen.flow_from_directory(train_path, target_size = img_size, batch_size = 32, class_mode = 'binary')\n",
    "test_set = train_datagen.flow_from_directory(test_path, target_size = img_size, batch_size = 32, class_mode = 'binary')\n",
    "val_set = train_datagen.flow_from_directory(val_path, target_size = img_size, batch_size = 32, class_mode = 'binary')"
   ]
  },
  {
   "cell_type": "code",
   "execution_count": null,
   "id": "f6c7fc74",
   "metadata": {},
   "outputs": [],
   "source": [
    "train_y = train_set.classes\n",
    "test_y = test_set.classes\n",
    "val_y = val_set.classes"
   ]
  },
  {
   "cell_type": "code",
   "execution_count": null,
   "id": "d28eb802",
   "metadata": {},
   "outputs": [],
   "source": [
    "model = Sequential()\n",
    "\n",
    "model.add(Conv2D(filters=64, kernel_size=(3, 3), activation='relu'))\n",
    "model.add(Conv2D(filters=64, kernel_size=(3, 3), activation='relu'))\n",
    "model.add(MaxPooling2D(pool_size=(2, 2)))\n",
    "model.add(Flatten())\n",
    "model.add(Dense(4, activation='relu'))\n",
    "model.add(Dense(4, activation='relu'))\n",
    "model.add(Dense(1, activation='sigmoid'))\n",
    "\n",
    "# model.build(input_shape = (100, 224, 224, 1))\n",
    "\n",
    "model.summary()"
   ]
  },
  {
   "cell_type": "code",
   "execution_count": null,
   "id": "8a0930d6",
   "metadata": {},
   "outputs": [],
   "source": [
    "model.compile(\n",
    "  loss='sparse_categorical_crossentropy',\n",
    "  optimizer=\"adam\",\n",
    "  metrics=['accuracy']\n",
    ")"
   ]
  },
  {
   "cell_type": "code",
   "execution_count": null,
   "id": "16f801e9",
   "metadata": {},
   "outputs": [],
   "source": [
    "history = model.fit(\n",
    "  train_x,\n",
    "  train_y,\n",
    "  validation_data=(val_x,val_y),\n",
    "  epochs=10,\n",
    "  batch_size=8,shuffle=True)"
   ]
  }
 ],
 "metadata": {
  "kernelspec": {
   "display_name": "Python 3 (ipykernel)",
   "language": "python",
   "name": "python3"
  },
  "language_info": {
   "codemirror_mode": {
    "name": "ipython",
    "version": 3
   },
   "file_extension": ".py",
   "mimetype": "text/x-python",
   "name": "python",
   "nbconvert_exporter": "python",
   "pygments_lexer": "ipython3",
   "version": "3.8.10"
  }
 },
 "nbformat": 4,
 "nbformat_minor": 5
}
