{
 "cells": [
  {
   "cell_type": "code",
   "execution_count": 3,
   "id": "3aaa9127",
   "metadata": {},
   "outputs": [],
   "source": [
    "from tensorflow.keras.layers import Input, Dense, Flatten, Conv2D, MaxPooling2D\n",
    "from tensorflow.keras.models import Model"
   ]
  },
  {
   "cell_type": "code",
   "execution_count": 11,
   "id": "aace15a6",
   "metadata": {},
   "outputs": [],
   "source": [
    "inputs = Input(shape=(224, 224, 3), name='Input_Layer')\n",
    "hl0 = Conv2D(filters=64, kernel_size=(3, 3), activation='relu', padding='same', name='hl0')(inputs)\n",
    "hl1 = Conv2D(filters=64, kernel_size=(3, 3), activation='relu', padding='same', name='hl1')(hl0)\n",
    "hl2 = MaxPooling2D(pool_size=(2, 2), name='hl2')(hl1)\n",
    "hl3 = Conv2D(filters=128, kernel_size=(3, 3), activation='relu', padding='same', name='hl3')(hl2)\n",
    "hl4 = Conv2D(filters=128, kernel_size=(3, 3), activation='relu', padding='same', name='hl4')(hl3)\n",
    "hl5 = MaxPooling2D(pool_size=(2, 2), name='hl5')(hl4)\n",
    "hl6 = Conv2D(filters=256, kernel_size=(3, 3), activation='relu', padding='same', name='hl6')(hl5)\n",
    "hl7 = Conv2D(filters=256, kernel_size=(3, 3), activation='relu', padding='same', name='hl7')(hl6)\n",
    "hl8 = Conv2D(filters=256, kernel_size=(3, 3), activation='relu', padding='same', name='hl8')(hl7)\n",
    "hl9 = MaxPooling2D(pool_size=(2, 2), name='hl9')(hl8)\n",
    "hl10 = Conv2D(filters=512, kernel_size=(3, 3), activation='relu', padding='same', name='hl10')(hl9)\n",
    "hl11 = Conv2D(filters=512, kernel_size=(3, 3), activation='relu', padding='same', name='hl11')(hl10)\n",
    "hl12 = Conv2D(filters=512, kernel_size=(3, 3), activation='relu', padding='same', name='hl12')(hl11)\n",
    "hl13 = MaxPooling2D(pool_size=(2, 2), name='hl13')(hl12)\n",
    "hl14 = Conv2D(filters=512, kernel_size=(3, 3), activation='relu', padding='same', name='hl14')(hl13)\n",
    "hl15 = Conv2D(filters=512, kernel_size=(3, 3), activation='relu', padding='same', name='hl15')(hl14)\n",
    "hl16 = Conv2D(filters=512, kernel_size=(3, 3), activation='relu', padding='same', name='hl16')(hl15)\n",
    "hl17 = MaxPooling2D(pool_size=(2, 2), name='hl17')(hl16)\n",
    "fl = Flatten(name='fl')(hl17)\n",
    "dl1 = Dense(4096, activation='relu', name='dl1')(fl)\n",
    "dl2 = Dense(4096, activation='relu', name='dl2')(dl1)\n",
    "outputs = Dense(1000, activation='softmax', name='Output_Layer')(dl2)"
   ]
  },
  {
   "cell_type": "code",
   "execution_count": 12,
   "id": "e33cb7f8",
   "metadata": {
    "scrolled": true
   },
   "outputs": [
    {
     "name": "stdout",
     "output_type": "stream",
     "text": [
      "Model: \"model_5\"\n",
      "_________________________________________________________________\n",
      " Layer (type)                Output Shape              Param #   \n",
      "=================================================================\n",
      " Input_Layer (InputLayer)    [(None, 224, 224, 3)]     0         \n",
      "                                                                 \n",
      " hl0 (Conv2D)                (None, 224, 224, 64)      1792      \n",
      "                                                                 \n",
      " hl1 (Conv2D)                (None, 224, 224, 64)      36928     \n",
      "                                                                 \n",
      " hl2 (MaxPooling2D)          (None, 112, 112, 64)      0         \n",
      "                                                                 \n",
      " hl3 (Conv2D)                (None, 112, 112, 128)     73856     \n",
      "                                                                 \n",
      " hl4 (Conv2D)                (None, 112, 112, 128)     147584    \n",
      "                                                                 \n",
      " hl5 (MaxPooling2D)          (None, 56, 56, 128)       0         \n",
      "                                                                 \n",
      " hl6 (Conv2D)                (None, 56, 56, 256)       295168    \n",
      "                                                                 \n",
      " hl7 (Conv2D)                (None, 56, 56, 256)       590080    \n",
      "                                                                 \n",
      " hl8 (Conv2D)                (None, 56, 56, 256)       590080    \n",
      "                                                                 \n",
      " hl9 (MaxPooling2D)          (None, 28, 28, 256)       0         \n",
      "                                                                 \n",
      " hl10 (Conv2D)               (None, 28, 28, 512)       1180160   \n",
      "                                                                 \n",
      " hl11 (Conv2D)               (None, 28, 28, 512)       2359808   \n",
      "                                                                 \n",
      " hl12 (Conv2D)               (None, 28, 28, 512)       2359808   \n",
      "                                                                 \n",
      " hl13 (MaxPooling2D)         (None, 14, 14, 512)       0         \n",
      "                                                                 \n",
      " hl14 (Conv2D)               (None, 14, 14, 512)       2359808   \n",
      "                                                                 \n",
      " hl15 (Conv2D)               (None, 14, 14, 512)       2359808   \n",
      "                                                                 \n",
      " hl16 (Conv2D)               (None, 14, 14, 512)       2359808   \n",
      "                                                                 \n",
      " hl17 (MaxPooling2D)         (None, 7, 7, 512)         0         \n",
      "                                                                 \n",
      " fl (Flatten)                (None, 25088)             0         \n",
      "                                                                 \n",
      " dl1 (Dense)                 (None, 4096)              102764544 \n",
      "                                                                 \n",
      " dl2 (Dense)                 (None, 4096)              16781312  \n",
      "                                                                 \n",
      " Output_Layer (Dense)        (None, 1000)              4097000   \n",
      "                                                                 \n",
      "=================================================================\n",
      "Total params: 138,357,544\n",
      "Trainable params: 138,357,544\n",
      "Non-trainable params: 0\n",
      "_________________________________________________________________\n"
     ]
    }
   ],
   "source": [
    "model = Model(inputs, outputs)\n",
    "model.summary()"
   ]
  }
 ],
 "metadata": {
  "kernelspec": {
   "display_name": "Python 3 (ipykernel)",
   "language": "python",
   "name": "python3"
  },
  "language_info": {
   "codemirror_mode": {
    "name": "ipython",
    "version": 3
   },
   "file_extension": ".py",
   "mimetype": "text/x-python",
   "name": "python",
   "nbconvert_exporter": "python",
   "pygments_lexer": "ipython3",
   "version": "3.9.13"
  }
 },
 "nbformat": 4,
 "nbformat_minor": 5
}
