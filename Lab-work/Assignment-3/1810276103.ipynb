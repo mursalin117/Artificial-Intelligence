{
 "cells": [
  {
   "cell_type": "code",
   "execution_count": 10,
   "id": "a10c7a84",
   "metadata": {},
   "outputs": [],
   "source": [
    "from tensorflow.keras.layers import Conv2D, Flatten, Dense, MaxPooling2D\n",
    "from tensorflow.keras.models import Model, Sequential\n",
    "from tensorflow.keras.preprocessing.image import ImageDataGenerator\n",
    "import os\n",
    "import cv2 as cv\n",
    "import numpy as np\n",
    "import matplotlib.pyplot as plt"
   ]
  },
  {
   "cell_type": "code",
   "execution_count": 2,
   "id": "6a68a9f5",
   "metadata": {},
   "outputs": [],
   "source": [
    "img_size = (224, 224)\n",
    "\n",
    "train_path = './Assignment-3/dataset/training/'\n",
    "test_path = './Assignment-3/dataset/testing/'\n",
    "val_path = './Assignment-3/dataset/validation/'"
   ]
  },
  {
   "cell_type": "code",
   "execution_count": 3,
   "id": "1de0f98a",
   "metadata": {},
   "outputs": [],
   "source": [
    "train_datagen = ImageDataGenerator(rescale = 1.0 / 255)\n",
    "test_datagen = ImageDataGenerator(rescale = 1.0 / 255)\n",
    "val_dtagen = ImageDataGenerator(rescale = 1.0 / 255)"
   ]
  },
  {
   "cell_type": "code",
   "execution_count": 4,
   "id": "8a3a6411",
   "metadata": {},
   "outputs": [
    {
     "name": "stdout",
     "output_type": "stream",
     "text": [
      "Found 468 images belonging to 2 classes.\n",
      "Found 26 images belonging to 2 classes.\n",
      "Found 26 images belonging to 2 classes.\n"
     ]
    }
   ],
   "source": [
    "train_set = train_datagen.flow_from_directory(\n",
    "    train_path, \n",
    "    target_size = img_size, \n",
    "    batch_size = 32, \n",
    "    class_mode = 'binary')\n",
    "\n",
    "test_set = train_datagen.flow_from_directory(\n",
    "    test_path, \n",
    "    target_size = img_size, \n",
    "    batch_size = 32, \n",
    "    class_mode = 'binary')\n",
    "\n",
    "val_set = train_datagen.flow_from_directory(\n",
    "    val_path, \n",
    "    target_size = img_size, \n",
    "    batch_size = 32, \n",
    "    class_mode = 'binary')"
   ]
  },
  {
   "cell_type": "code",
   "execution_count": 5,
   "id": "51b6f602",
   "metadata": {},
   "outputs": [
    {
     "name": "stderr",
     "output_type": "stream",
     "text": [
      "2023-01-22 18:28:51.580711: W tensorflow/compiler/xla/stream_executor/platform/default/dso_loader.cc:64] Could not load dynamic library 'libcuda.so.1'; dlerror: libcuda.so.1: cannot open shared object file: No such file or directory; LD_LIBRARY_PATH: /home/mursalin/.local/lib/python3.8/site-packages/cv2/../../lib64:\n",
      "2023-01-22 18:28:51.581403: W tensorflow/compiler/xla/stream_executor/cuda/cuda_driver.cc:265] failed call to cuInit: UNKNOWN ERROR (303)\n",
      "2023-01-22 18:28:51.581456: I tensorflow/compiler/xla/stream_executor/cuda/cuda_diagnostics.cc:156] kernel driver does not appear to be running on this host (m3c): /proc/driver/nvidia/version does not exist\n",
      "2023-01-22 18:28:51.583359: I tensorflow/core/platform/cpu_feature_guard.cc:193] This TensorFlow binary is optimized with oneAPI Deep Neural Network Library (oneDNN) to use the following CPU instructions in performance-critical operations:  AVX2 FMA\n",
      "To enable them in other operations, rebuild TensorFlow with the appropriate compiler flags.\n"
     ]
    },
    {
     "name": "stdout",
     "output_type": "stream",
     "text": [
      "Model: \"sequential\"\n",
      "_________________________________________________________________\n",
      " Layer (type)                Output Shape              Param #   \n",
      "=================================================================\n",
      " conv2d (Conv2D)             (None, 222, 222, 64)      1792      \n",
      "                                                                 \n",
      " conv2d_1 (Conv2D)           (None, 220, 220, 64)      36928     \n",
      "                                                                 \n",
      " max_pooling2d (MaxPooling2D  (None, 110, 110, 64)     0         \n",
      " )                                                               \n",
      "                                                                 \n",
      " flatten (Flatten)           (None, 774400)            0         \n",
      "                                                                 \n",
      " dense (Dense)               (None, 16)                12390416  \n",
      "                                                                 \n",
      " dense_1 (Dense)             (None, 32)                544       \n",
      "                                                                 \n",
      " dense_2 (Dense)             (None, 1)                 33        \n",
      "                                                                 \n",
      "=================================================================\n",
      "Total params: 12,429,713\n",
      "Trainable params: 12,429,713\n",
      "Non-trainable params: 0\n",
      "_________________________________________________________________\n"
     ]
    }
   ],
   "source": [
    "model = Sequential()\n",
    "\n",
    "model.add(Conv2D(input_shape=(224, 224, 3), filters=64, kernel_size=(3, 3), activation='relu'))\n",
    "model.add(Conv2D(filters=64, kernel_size=(3, 3), activation='relu'))\n",
    "model.add(MaxPooling2D(pool_size=(2, 2)))\n",
    "model.add(Flatten())\n",
    "model.add(Dense(16, activation='relu'))\n",
    "model.add(Dense(32, activation='relu'))\n",
    "model.add(Dense(1, activation='sigmoid'))\n",
    "\n",
    "# model.build(input_shape = (100, 224, 224, 1))\n",
    "\n",
    "model.summary()"
   ]
  },
  {
   "cell_type": "code",
   "execution_count": 6,
   "id": "157c272d",
   "metadata": {},
   "outputs": [],
   "source": [
    "model.compile(\n",
    "  loss='binary_crossentropy',\n",
    "  optimizer=\"adam\",\n",
    "  metrics=['accuracy']\n",
    ")"
   ]
  },
  {
   "cell_type": "code",
   "execution_count": 8,
   "id": "ec7b7418",
   "metadata": {},
   "outputs": [
    {
     "name": "stdout",
     "output_type": "stream",
     "text": [
      "Epoch 1/10\n"
     ]
    },
    {
     "name": "stderr",
     "output_type": "stream",
     "text": [
      "2023-01-22 18:31:35.498568: W tensorflow/tsl/framework/cpu_allocator_impl.cc:82] Allocation of 403734528 exceeds 10% of free system memory.\n",
      "2023-01-22 18:31:35.995061: W tensorflow/tsl/framework/cpu_allocator_impl.cc:82] Allocation of 396492800 exceeds 10% of free system memory.\n",
      "2023-01-22 18:31:37.970956: W tensorflow/tsl/framework/cpu_allocator_impl.cc:82] Allocation of 396492800 exceeds 10% of free system memory.\n",
      "2023-01-22 18:31:38.983210: W tensorflow/tsl/framework/cpu_allocator_impl.cc:82] Allocation of 403734528 exceeds 10% of free system memory.\n"
     ]
    },
    {
     "name": "stdout",
     "output_type": "stream",
     "text": [
      "\r",
      " 1/15 [=>............................] - ETA: 3:14 - loss: 0.7030 - accuracy: 0.4062"
     ]
    },
    {
     "name": "stderr",
     "output_type": "stream",
     "text": [
      "2023-01-22 18:31:43.495568: W tensorflow/tsl/framework/cpu_allocator_impl.cc:82] Allocation of 403734528 exceeds 10% of free system memory.\n"
     ]
    },
    {
     "name": "stdout",
     "output_type": "stream",
     "text": [
      "15/15 [==============================] - 120s 8s/step - loss: 0.3714 - accuracy: 0.8889 - val_loss: 0.0012 - val_accuracy: 1.0000\n",
      "Epoch 2/10\n",
      "15/15 [==============================] - 119s 8s/step - loss: 2.7726e-04 - accuracy: 1.0000 - val_loss: 2.3001e-06 - val_accuracy: 1.0000\n",
      "Epoch 3/10\n",
      "15/15 [==============================] - 149s 9s/step - loss: 1.2670e-06 - accuracy: 1.0000 - val_loss: 1.2935e-06 - val_accuracy: 1.0000\n",
      "Epoch 4/10\n",
      "15/15 [==============================] - 135s 9s/step - loss: 9.1346e-07 - accuracy: 1.0000 - val_loss: 6.9809e-07 - val_accuracy: 1.0000\n",
      "Epoch 5/10\n",
      "15/15 [==============================] - 126s 8s/step - loss: 4.4174e-07 - accuracy: 1.0000 - val_loss: 3.5695e-07 - val_accuracy: 1.0000\n",
      "Epoch 6/10\n",
      "15/15 [==============================] - 140s 9s/step - loss: 2.5451e-07 - accuracy: 1.0000 - val_loss: 2.2603e-07 - val_accuracy: 1.0000\n",
      "Epoch 7/10\n",
      "15/15 [==============================] - 143s 9s/step - loss: 1.6567e-07 - accuracy: 1.0000 - val_loss: 1.6742e-07 - val_accuracy: 1.0000\n",
      "Epoch 8/10\n",
      "15/15 [==============================] - 135s 9s/step - loss: 1.2248e-07 - accuracy: 1.0000 - val_loss: 1.3891e-07 - val_accuracy: 1.0000\n",
      "Epoch 9/10\n",
      "15/15 [==============================] - 138s 9s/step - loss: 1.0055e-07 - accuracy: 1.0000 - val_loss: 1.2542e-07 - val_accuracy: 1.0000\n",
      "Epoch 10/10\n",
      "15/15 [==============================] - 141s 9s/step - loss: 8.9291e-08 - accuracy: 1.0000 - val_loss: 1.2005e-07 - val_accuracy: 1.0000\n"
     ]
    }
   ],
   "source": [
    "history = model.fit(\n",
    "    train_set,\n",
    "    validation_data=val_set,\n",
    "    epochs=10,\n",
    "    shuffle=True)"
   ]
  },
  {
   "cell_type": "code",
   "execution_count": 12,
   "id": "e0ca8b04",
   "metadata": {},
   "outputs": [
    {
     "data": {
      "image/png": "[encoded data removed]",
      "text/plain": [
       "<Figure size 640x480 with 1 Axes>"
      ]
     },
     "metadata": {},
     "output_type": "display_data"
    },
    {
     "data": {
      "image/png": "[encoded data removed]",
      "text/plain": [
       "<Figure size 640x480 with 1 Axes>"
      ]
     },
     "metadata": {},
     "output_type": "display_data"
    }
   ],
   "source": [
    "# accuracies\n",
    "plt.plot(history.history['accuracy'], label='train acc')\n",
    "plt.plot(history.history['val_accuracy'], label='val acc')\n",
    "plt.legend()\n",
    "# plt.savefig('vgg-acc-rps-1.png')\n",
    "plt.show()\n",
    "\n",
    "# loss\n",
    "plt.plot(history.history['loss'], label='train loss')\n",
    "plt.plot(history.history['val_loss'], label='val loss')\n",
    "plt.legend()\n",
    "# plt.savefig('vgg-loss-rps-1.png')\n",
    "plt.show()"
   ]
  },
  {
   "cell_type": "code",
   "execution_count": 13,
   "id": "fafc6b0c",
   "metadata": {},
   "outputs": [
    {
     "name": "stdout",
     "output_type": "stream",
     "text": [
      "1/1 [==============================] - 4s 4s/step - loss: 1.0956e-07 - accuracy: 1.0000\n"
     ]
    },
    {
     "data": {
      "text/plain": [
       "[1.0956159712804947e-07, 1.0]"
      ]
     },
     "execution_count": 13,
     "metadata": {},
     "output_type": "execute_result"
    }
   ],
   "source": [
    "model.evaluate(test_set)"
   ]
  },
  {
   "cell_type": "code",
   "execution_count": null,
   "id": "61bde987",
   "metadata": {},
   "outputs": [],
   "source": []
  }
 ],
 "metadata": {
  "kernelspec": {
   "display_name": "Python 3 (ipykernel)",
   "language": "python",
   "name": "python3"
  },
  "language_info": {
   "codemirror_mode": {
    "name": "ipython",
    "version": 3
   },
   "file_extension": ".py",
   "mimetype": "text/x-python",
   "name": "python",
   "nbconvert_exporter": "python",
   "pygments_lexer": "ipython3",
   "version": "3.8.10"
  }
 },
 "nbformat": 4,
 "nbformat_minor": 5
}
