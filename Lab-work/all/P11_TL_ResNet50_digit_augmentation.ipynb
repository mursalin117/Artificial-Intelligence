{
  "nbformat": 4,
  "nbformat_minor": 0,
  "metadata": {
    "colab": {
      "provenance": [],
      "gpuType": "T4"
    },
    "kernelspec": {
      "name": "python3",
      "display_name": "Python 3"
    },
    "language_info": {
      "name": "python"
    },
    "accelerator": "GPU"
  },
  "cells": [
    {
      "cell_type": "code",
      "execution_count": 1,
      "metadata": {
        "id": "21NUmZ2u4XMZ"
      },
      "outputs": [],
      "source": [
        "import tensorflow\n",
        "from tensorflow.keras.layers import Flatten, Dense\n",
        "from tensorflow.keras.models import Sequential\n",
        "from tensorflow.keras.preprocessing.image import ImageDataGenerator\n",
        "from tensorflow.keras.datasets import mnist\n",
        "from tensorflow.keras.utils import to_categorical\n",
        "from tensorflow.keras.applications.resnet50 import ResNet50\n",
        "import numpy as np"
      ]
    },
    {
      "cell_type": "code",
      "source": [
        "(x_train, y_train), (x_test, y_test) = mnist.load_data()\n",
        "print(x_train.shape)\n",
        "\n",
        "x_train = x_train.reshape((x_train.shape[0], 28, 28))\n",
        "x_test = x_test.reshape((x_test.shape[0], 28, 28))\n",
        "print(x_train.shape)\n",
        "\n",
        "x_train = x_train / 255.0\n",
        "x_test = x_test / 255.0\n",
        "\n",
        "x_train = np.stack((x_train,) * 3, axis=-1)\n",
        "x_test = np.stack((x_test,) * 3, axis=-1)\n",
        "print(x_train.shape)\n",
        "\n",
        "y_train = to_categorical(y_train)\n",
        "y_test = to_categorical(y_test)"
      ],
      "metadata": {
        "colab": {
          "base_uri": "https://localhost:8080/"
        },
        "id": "Oco8fry87Q2B",
        "outputId": "9ee4e990-6c10-487d-a8de-a9c5d1fda073"
      },
      "execution_count": 2,
      "outputs": [
        {
          "output_type": "stream",
          "name": "stdout",
          "text": [
            "(60000, 28, 28)\n",
            "(60000, 28, 28)\n",
            "(60000, 28, 28, 3)\n"
          ]
        }
      ]
    },
    {
      "cell_type": "code",
      "source": [
        "datagen = ImageDataGenerator(\n",
        "    rotation_range=10,\n",
        "    zoom_range=0.1,\n",
        "    shear_range=0.1,\n",
        "    height_shift_range=0.1,\n",
        "    width_shift_range=0.1\n",
        ")\n",
        "\n",
        "datagen.fit(x_train)\n",
        "augmented_train = datagen.flow(x_train, y_train, batch_size=32)\n",
        "\n",
        "datagen.fit(x_test)\n",
        "augmented_test = datagen.flow(x_test, y_test, batch_size=32)"
      ],
      "metadata": {
        "id": "NTy57jVHCQyY"
      },
      "execution_count": 3,
      "outputs": []
    },
    {
      "cell_type": "code",
      "source": [
        "model1 = Sequential()\n",
        "model1.add(ResNet50(include_top=False, pooling='avg', weights='imagenet'))\n",
        "model1.add(Dense(512, activation='relu'))\n",
        "model1.add(Dense(10, activation='softmax'))\n",
        "\n",
        "model1.layers[0].trainable=False\n",
        "model1.summary()"
      ],
      "metadata": {
        "colab": {
          "base_uri": "https://localhost:8080/"
        },
        "id": "ruXcabTZDj_0",
        "outputId": "ad061e44-d203-48c0-d07f-597297674030"
      },
      "execution_count": 4,
      "outputs": [
        {
          "output_type": "stream",
          "name": "stdout",
          "text": [
            "Downloading data from https://storage.googleapis.com/tensorflow/keras-applications/resnet/resnet50_weights_tf_dim_ordering_tf_kernels_notop.h5\n",
            "94765736/94765736 [==============================] - 4s 0us/step\n",
            "Model: \"sequential\"\n",
            "_________________________________________________________________\n",
            " Layer (type)                Output Shape              Param #   \n",
            "=================================================================\n",
            " resnet50 (Functional)       (None, 2048)              23587712  \n",
            "                                                                 \n",
            " dense (Dense)               (None, 512)               1049088   \n",
            "                                                                 \n",
            " dense_1 (Dense)             (None, 10)                5130      \n",
            "                                                                 \n",
            "=================================================================\n",
            "Total params: 24,641,930\n",
            "Trainable params: 1,054,218\n",
            "Non-trainable params: 23,587,712\n",
            "_________________________________________________________________\n"
          ]
        }
      ]
    },
    {
      "cell_type": "code",
      "source": [
        "model2 = Sequential()\n",
        "model2.add(ResNet50(include_top=False, pooling='avg', weights='imagenet'))\n",
        "model2.add(Dense(512, activation='relu'))\n",
        "model2.add(Dense(10, activation='softmax'))\n",
        "\n",
        "model2.layers[0].trainable=False\n",
        "model2.summary()"
      ],
      "metadata": {
        "colab": {
          "base_uri": "https://localhost:8080/"
        },
        "id": "D_4KoQYhEP1V",
        "outputId": "42dbd3ea-52ef-47f2-ff68-e982b1455a59"
      },
      "execution_count": 5,
      "outputs": [
        {
          "output_type": "stream",
          "name": "stdout",
          "text": [
            "Model: \"sequential_1\"\n",
            "_________________________________________________________________\n",
            " Layer (type)                Output Shape              Param #   \n",
            "=================================================================\n",
            " resnet50 (Functional)       (None, 2048)              23587712  \n",
            "                                                                 \n",
            " dense_2 (Dense)             (None, 512)               1049088   \n",
            "                                                                 \n",
            " dense_3 (Dense)             (None, 10)                5130      \n",
            "                                                                 \n",
            "=================================================================\n",
            "Total params: 24,641,930\n",
            "Trainable params: 1,054,218\n",
            "Non-trainable params: 23,587,712\n",
            "_________________________________________________________________\n"
          ]
        }
      ]
    },
    {
      "cell_type": "code",
      "source": [
        "model1.compile(optimizer='adam', loss='categorical_crossentropy', metrics=['accuracy'])\n",
        "\n",
        "model1.fit(x_train, y_train, epochs=10, batch_size=128, validation_data=(x_test, y_test))"
      ],
      "metadata": {
        "colab": {
          "base_uri": "https://localhost:8080/"
        },
        "id": "aA_BI3iVFbhc",
        "outputId": "6a2a157d-5014-479c-f14c-9b3260dddd6d"
      },
      "execution_count": null,
      "outputs": [
        {
          "output_type": "stream",
          "name": "stdout",
          "text": [
            "Epoch 1/10\n",
            "469/469 [==============================] - 276s 576ms/step - loss: 0.6668 - accuracy: 0.8004 - val_loss: 0.3695 - val_accuracy: 0.8878\n",
            "Epoch 2/10\n",
            "469/469 [==============================] - 261s 556ms/step - loss: 0.3616 - accuracy: 0.8862 - val_loss: 0.2981 - val_accuracy: 0.9120\n",
            "Epoch 3/10\n",
            "469/469 [==============================] - 254s 542ms/step - loss: 0.2936 - accuracy: 0.9074 - val_loss: 0.2663 - val_accuracy: 0.9176\n",
            "Epoch 4/10\n",
            "469/469 [==============================] - 254s 543ms/step - loss: 0.2558 - accuracy: 0.9184 - val_loss: 0.2304 - val_accuracy: 0.9282\n",
            "Epoch 5/10\n",
            "469/469 [==============================] - 247s 528ms/step - loss: 0.2383 - accuracy: 0.9237 - val_loss: 0.2718 - val_accuracy: 0.9100\n",
            "Epoch 6/10\n",
            "469/469 [==============================] - 255s 544ms/step - loss: 0.2218 - accuracy: 0.9282 - val_loss: 0.2040 - val_accuracy: 0.9349\n",
            "Epoch 7/10\n",
            "294/469 [=================>............] - ETA: 1:20 - loss: 0.2152 - accuracy: 0.9322"
          ]
        }
      ]
    },
    {
      "cell_type": "code",
      "source": [
        "model2.compile(optimizer='adam', loss='categorical_crossentropy', metrics=['accuracy'])\n",
        "\n",
        "model2.fit(augmented_train, epochs=10, batch_size=128, validation_data=(x_test, y_test))"
      ],
      "metadata": {
        "id": "yLFV-Bx1F7M-"
      },
      "execution_count": null,
      "outputs": []
    },
    {
      "cell_type": "code",
      "source": [
        "predict1 = model1.predict(x_test)\n",
        "plt.figure(figsize=(12, 12))\n",
        "for i in range(25):\n",
        "  plt.subplot(5, 5, i+1)\n",
        "  plt.xticks([])\n",
        "  plt.yticks([])\n",
        "  plt.imshow(x_test[i], cmap=plt.cm.binary)\n",
        "  plt.xlabel(\"real=\" + str(y_test[i]) + ' predicted=' + str(np.argmax(predict1[i])))\n",
        "plt.show()"
      ],
      "metadata": {
        "id": "6dmLmni7GKOm"
      },
      "execution_count": null,
      "outputs": []
    },
    {
      "cell_type": "code",
      "source": [
        "predict2 = model2.predict(x_test)\n",
        "plt.figure(figsize=(12, 12))\n",
        "for i in range(25):\n",
        "  plt.subplot(5, 5, i+1)\n",
        "  plt.xticks([])\n",
        "  plt.yticks([])\n",
        "  plt.imshow(x_test[i], cmap=plt.cm.binary)\n",
        "  plt.xlabel(\"real=\" + str(y_test[i]) + ' predicted=' + str(np.argmax(predict2[i])))\n",
        "plt.show()"
      ],
      "metadata": {
        "id": "8BFtawpzGOj_"
      },
      "execution_count": null,
      "outputs": []
    },
    {
      "cell_type": "code",
      "source": [
        "out11 = model1.evaluate(x_test, y_test)\n",
        "\n",
        "print(\"Model Accuracy: %.4f\" % out11[1])\n",
        "print(\"Model loss: %.4f\" % out11[0])\n",
        "\n",
        "out21 = model2.evaluate(x_test, y_test)\n",
        "\n",
        "print(\"Model Accuracy: %.4f\" % out21[1])\n",
        "print(\"Model loss: %.4f\" % out21[0])"
      ],
      "metadata": {
        "id": "wV8Bqo8eGPRd"
      },
      "execution_count": null,
      "outputs": []
    },
    {
      "cell_type": "code",
      "source": [
        "out12 = model1.evaluate(augmented_test)\n",
        "# print(out12)\n",
        "\n",
        "print(\"Model Accuracy: %.4f\" % out12[1])\n",
        "print(\"Model Loss: %.4f\" % out12[0])\n",
        "\n",
        "out21 = model2.evaluate(augmented_test)\n",
        "\n",
        "print(\"Model Accuracy: %.4f\" % out21[1])\n",
        "print(\"Model Loss: %.4f\" % out21[0])"
      ],
      "metadata": {
        "id": "83TukrpwGXA2"
      },
      "execution_count": null,
      "outputs": []
    }
  ]
}