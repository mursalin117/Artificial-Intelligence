{
  "nbformat": 4,
  "nbformat_minor": 0,
  "metadata": {
    "colab": {
      "provenance": []
    },
    "kernelspec": {
      "name": "python3",
      "display_name": "Python 3"
    },
    "language_info": {
      "name": "python"
    }
  },
  "cells": [
    {
      "cell_type": "code",
      "execution_count": null,
      "metadata": {
        "id": "zOozz4JhHMul"
      },
      "outputs": [],
      "source": [
        "import tensorflow\n",
        "from tensorflow.keras.layers import Flatten, Dense\n",
        "from tensorflow.keras.models import Sequential\n",
        "from tensorflow.keras.preprocessing.image import ImageDataGenerator\n",
        "from tensorflow.keras.datasets import mnist\n",
        "from tensorflow.keras.utils import to_categorical\n",
        "from tensorflow.keras.applications.vgg16 import VGG16\n",
        "import numpy as np"
      ]
    },
    {
      "cell_type": "code",
      "source": [
        "(x_train, y_train), (x_test, y_test) = mnist.load_data()\n",
        "print(x_train.shape)\n",
        "\n",
        "x_train = tensorflow.image.resize(x_train, (48, 48))\n",
        "x_test = tensorflow.image.resize(x_test, (48, 48))\n",
        "print(x_train.shape)\n",
        "\n",
        "x_train = x_train / 255.0\n",
        "x_test = x_test / 255.0\n",
        "\n",
        "x_train = np.stack((x_train,) * 3, axis=-1)\n",
        "x_test = np.stack((x_test,) * 3, axis=-1)\n",
        "print(x_train.shape)\n",
        "\n",
        "y_train = to_categorical(y_train)\n",
        "y_test = to_categorical(y_test)"
      ],
      "metadata": {
        "id": "-7zCuVPDHkvD"
      },
      "execution_count": null,
      "outputs": []
    },
    {
      "cell_type": "code",
      "source": [
        "datagen = ImageDataGenerator(\n",
        "    rotation_range=10,\n",
        "    zoom_range=0.1,\n",
        "    shear_range=0.1,\n",
        "    height_shift_range=0.1,\n",
        "    width_shift_range=0.1\n",
        ")\n",
        "\n",
        "datagen.fit(x_train)\n",
        "augmented_train = datagen.flow(x_train, y_train, batch_size=32)\n",
        "\n",
        "datagen.fit(x_test)\n",
        "augmented_test = datagen.flow(x_test, y_test, batch_size=32)"
      ],
      "metadata": {
        "id": "S4tEdT4WHpfp"
      },
      "execution_count": null,
      "outputs": []
    },
    {
      "cell_type": "code",
      "source": [
        "model1 = Sequential()\n",
        "model1.add(VGG16(include_top=False, pooling='avg', weights='imagenet'))\n",
        "model1.add(Dense(512, activation='relu'))\n",
        "model1.add(Dense(10, activation='softmax'))\n",
        "\n",
        "model1.layers[0].trainable=False\n",
        "model1.summary()"
      ],
      "metadata": {
        "id": "DRwubL_QHto6"
      },
      "execution_count": null,
      "outputs": []
    },
    {
      "cell_type": "code",
      "source": [
        "model2 = Sequential()\n",
        "model2.add(VGG16(include_top=False, pooling='avg', weights='imagenet'))\n",
        "model2.add(Dense(512, activation='relu'))\n",
        "model2.add(Dense(10, activation='softmax'))\n",
        "\n",
        "model2.layers[0].trainable=False\n",
        "model2.summary()"
      ],
      "metadata": {
        "id": "DyVWa3_iHwhD"
      },
      "execution_count": null,
      "outputs": []
    },
    {
      "cell_type": "code",
      "source": [
        "model1.compile(optimizer='adam', loss='categorical_crossentropy', metrics=['accuracy'])\n",
        "\n",
        "model1.fit(x_train, y_train, epochs=10, batch_size=128, validation_data=(x_test, y_test))"
      ],
      "metadata": {
        "id": "2kHoemx2H2Nx"
      },
      "execution_count": null,
      "outputs": []
    },
    {
      "cell_type": "code",
      "source": [
        "model2.compile(optimizer='adam', loss='categorical_crossentropy', metrics=['accuracy'])\n",
        "\n",
        "model2.fit(augmented_train, epochs=10, batch_size=128, validation_data=(x_test, y_test))"
      ],
      "metadata": {
        "id": "5nBk1c2BH8NT"
      },
      "execution_count": null,
      "outputs": []
    },
    {
      "cell_type": "code",
      "source": [
        "out11 = model1.evaluate(x_test, y_test)\n",
        "\n",
        "print(\"Model Accuracy: %.4f\" % out11[1])\n",
        "print(\"Model loss: %.4f\" % out11[0])\n",
        "\n",
        "out21 = model2.evaluate(x_test, y_test)\n",
        "\n",
        "print(\"Model Accuracy: %.4f\" % out21[1])\n",
        "print(\"Model loss: %.4f\" % out21[0])"
      ],
      "metadata": {
        "id": "I0xcezs0H-wj"
      },
      "execution_count": null,
      "outputs": []
    },
    {
      "cell_type": "code",
      "source": [
        "out12 = model1.evaluate(augmented_test)\n",
        "# print(out12)\n",
        "\n",
        "print(\"Model Accuracy: %.4f\" % out12[1])\n",
        "print(\"Model Loss: %.4f\" % out12[0])\n",
        "\n",
        "out21 = model2.evaluate(augmented_test)\n",
        "\n",
        "print(\"Model Accuracy: %.4f\" % out21[1])\n",
        "print(\"Model Loss: %.4f\" % out21[0])"
      ],
      "metadata": {
        "id": "i6BPTSSBICQz"
      },
      "execution_count": null,
      "outputs": []
    }
  ]
}