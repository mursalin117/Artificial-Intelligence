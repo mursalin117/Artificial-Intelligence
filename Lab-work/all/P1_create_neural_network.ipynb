{
  "nbformat": 4,
  "nbformat_minor": 0,
  "metadata": {
    "colab": {
      "provenance": []
    },
    "kernelspec": {
      "name": "python3",
      "display_name": "Python 3"
    },
    "language_info": {
      "name": "python"
    }
  },
  "cells": [
    {
      "cell_type": "markdown",
      "source": [
        "# Build a Neural Network Having only two neurons in the input and output layer"
      ],
      "metadata": {
        "id": "gGHCB9SRkD5c"
      }
    },
    {
      "cell_type": "code",
      "source": [
        "from tensorflow.keras.layers import Input, Dense, Flatten, Conv2D\n",
        "from tensorflow.keras.models import Model"
      ],
      "metadata": {
        "id": "qO6gVJDRGBn7"
      },
      "execution_count": null,
      "outputs": []
    },
    {
      "cell_type": "markdown",
      "source": [
        "# Build a Neural Network Having only one neuron in the input and output layer"
      ],
      "metadata": {
        "id": "jOJBUvlTj1s7"
      }
    },
    {
      "cell_type": "code",
      "source": [
        "inputs = Input((1, ))\n",
        "outputs = Dense(1)(inputs)\n",
        "\n",
        "model = Model(inputs, outputs)\n",
        "model.summary()"
      ],
      "metadata": {
        "colab": {
          "base_uri": "https://localhost:8080/"
        },
        "id": "kEiJcXDhF-Vt",
        "outputId": "a7bbc435-1b98-4a97-b2d0-773b12c7c086"
      },
      "execution_count": null,
      "outputs": [
        {
          "output_type": "stream",
          "name": "stdout",
          "text": [
            "Model: \"model\"\n",
            "_________________________________________________________________\n",
            " Layer (type)                Output Shape              Param #   \n",
            "=================================================================\n",
            " input_1 (InputLayer)        [(None, 1)]               0         \n",
            "                                                                 \n",
            " dense (Dense)               (None, 1)                 2         \n",
            "                                                                 \n",
            "=================================================================\n",
            "Total params: 2\n",
            "Trainable params: 2\n",
            "Non-trainable params: 0\n",
            "_________________________________________________________________\n"
          ]
        }
      ]
    },
    {
      "cell_type": "markdown",
      "source": [
        "# Build a Neural Network Having only two neurons in the input and output layer"
      ],
      "metadata": {
        "id": "uJGCNJjvHI_1"
      }
    },
    {
      "cell_type": "code",
      "source": [
        "inputs = Input((2,))\n",
        "outputs = Dense(2)(inputs)\n",
        "\n",
        "model = Model(inputs, outputs)\n",
        "model.summary()"
      ],
      "metadata": {
        "colab": {
          "base_uri": "https://localhost:8080/"
        },
        "id": "lEEZhr4DGbG0",
        "outputId": "504bbd1d-4cab-4a6b-fe63-b4d59909c700"
      },
      "execution_count": null,
      "outputs": [
        {
          "output_type": "stream",
          "name": "stdout",
          "text": [
            "Model: \"model_1\"\n",
            "_________________________________________________________________\n",
            " Layer (type)                Output Shape              Param #   \n",
            "=================================================================\n",
            " input_2 (InputLayer)        [(None, 2)]               0         \n",
            "                                                                 \n",
            " dense_1 (Dense)             (None, 2)                 6         \n",
            "                                                                 \n",
            "=================================================================\n",
            "Total params: 6\n",
            "Trainable params: 6\n",
            "Non-trainable params: 0\n",
            "_________________________________________________________________\n"
          ]
        }
      ]
    },
    {
      "cell_type": "markdown",
      "source": [
        "# Build a Neural Network Having only one hidden layer in the middle of the input and output layer"
      ],
      "metadata": {
        "id": "GfsPu_PnkRCt"
      }
    },
    {
      "cell_type": "code",
      "source": [
        "inputs = Input((2,))\n",
        "x = Dense(4)(inputs)\n",
        "outputs = Dense(2)(x)\n",
        "\n",
        "model = Model(inputs, outputs)\n",
        "model.summary()"
      ],
      "metadata": {
        "colab": {
          "base_uri": "https://localhost:8080/"
        },
        "id": "sQKzb5mQHfjU",
        "outputId": "505f165e-a813-4e03-940f-6d798349a0a3"
      },
      "execution_count": null,
      "outputs": [
        {
          "output_type": "stream",
          "name": "stdout",
          "text": [
            "Model: \"model_2\"\n",
            "_________________________________________________________________\n",
            " Layer (type)                Output Shape              Param #   \n",
            "=================================================================\n",
            " input_3 (InputLayer)        [(None, 2)]               0         \n",
            "                                                                 \n",
            " dense_2 (Dense)             (None, 4)                 12        \n",
            "                                                                 \n",
            " dense_3 (Dense)             (None, 2)                 10        \n",
            "                                                                 \n",
            "=================================================================\n",
            "Total params: 22\n",
            "Trainable params: 22\n",
            "Non-trainable params: 0\n",
            "_________________________________________________________________\n"
          ]
        }
      ]
    },
    {
      "cell_type": "markdown",
      "source": [
        "# Build a Neural Network having non-linear activation functions"
      ],
      "metadata": {
        "id": "_sUSH2DHkhci"
      }
    },
    {
      "cell_type": "code",
      "source": [
        "inputs = Input((2, ))\n",
        "x = Dense(4, activation='sigmoid')(inputs)\n",
        "outputs = Dense(2, activation='sigmoid')(x)\n",
        "\n",
        "model = Model(inputs, outputs)\n",
        "model.summary()"
      ],
      "metadata": {
        "colab": {
          "base_uri": "https://localhost:8080/"
        },
        "id": "SSORW5o9INga",
        "outputId": "8bbb836e-30ff-40bf-c827-37e30d3f85c8"
      },
      "execution_count": null,
      "outputs": [
        {
          "output_type": "stream",
          "name": "stdout",
          "text": [
            "Model: \"model_3\"\n",
            "_________________________________________________________________\n",
            " Layer (type)                Output Shape              Param #   \n",
            "=================================================================\n",
            " input_4 (InputLayer)        [(None, 2)]               0         \n",
            "                                                                 \n",
            " dense_4 (Dense)             (None, 4)                 12        \n",
            "                                                                 \n",
            " dense_5 (Dense)             (None, 2)                 10        \n",
            "                                                                 \n",
            "=================================================================\n",
            "Total params: 22\n",
            "Trainable params: 22\n",
            "Non-trainable params: 0\n",
            "_________________________________________________________________\n"
          ]
        }
      ]
    },
    {
      "cell_type": "markdown",
      "source": [
        "# Add layers' names"
      ],
      "metadata": {
        "id": "edPfFzQdyGs_"
      }
    },
    {
      "cell_type": "code",
      "source": [
        "inputs = Input((2,), name='Input')\n",
        "x = Dense(4, activation='sigmoid', name='Hidden')(inputs)\n",
        "outputs = Dense(2, activation='sigmoid', name='Output')(x)\n",
        "\n",
        "model = Model(inputs, outputs)\n",
        "model.summary()"
      ],
      "metadata": {
        "colab": {
          "base_uri": "https://localhost:8080/"
        },
        "id": "PVeAmhFcIpYe",
        "outputId": "4bd3863f-cc43-4835-978c-02979729ebc7"
      },
      "execution_count": null,
      "outputs": [
        {
          "output_type": "stream",
          "name": "stdout",
          "text": [
            "Model: \"model_4\"\n",
            "_________________________________________________________________\n",
            " Layer (type)                Output Shape              Param #   \n",
            "=================================================================\n",
            " Input (InputLayer)          [(None, 2)]               0         \n",
            "                                                                 \n",
            " Hidden (Dense)              (None, 4)                 12        \n",
            "                                                                 \n",
            " Output (Dense)              (None, 2)                 10        \n",
            "                                                                 \n",
            "=================================================================\n",
            "Total params: 22\n",
            "Trainable params: 22\n",
            "Non-trainable params: 0\n",
            "_________________________________________________________________\n"
          ]
        }
      ]
    },
    {
      "cell_type": "markdown",
      "source": [
        "# Add Flatten layer"
      ],
      "metadata": {
        "id": "DXmY24bsJIQZ"
      }
    },
    {
      "cell_type": "code",
      "source": [
        "inputs = Input((28, 28))\n",
        "x = Flatten()(inputs)\n",
        "outputs = Dense(1)(x)\n",
        "\n",
        "model = Model(inputs, outputs)\n",
        "model.summary()"
      ],
      "metadata": {
        "colab": {
          "base_uri": "https://localhost:8080/"
        },
        "id": "Vpir9ExTJPE7",
        "outputId": "1165fc71-a8d7-43d4-d122-958a239c606d"
      },
      "execution_count": null,
      "outputs": [
        {
          "output_type": "stream",
          "name": "stdout",
          "text": [
            "Model: \"model_5\"\n",
            "_________________________________________________________________\n",
            " Layer (type)                Output Shape              Param #   \n",
            "=================================================================\n",
            " input_5 (InputLayer)        [(None, 28, 28)]          0         \n",
            "                                                                 \n",
            " flatten (Flatten)           (None, 784)               0         \n",
            "                                                                 \n",
            " dense_6 (Dense)             (None, 1)                 785       \n",
            "                                                                 \n",
            "=================================================================\n",
            "Total params: 785\n",
            "Trainable params: 785\n",
            "Non-trainable params: 0\n",
            "_________________________________________________________________\n"
          ]
        }
      ]
    },
    {
      "cell_type": "markdown",
      "source": [
        "# Build a simple Convolitional NN."
      ],
      "metadata": {
        "id": "Q6MRumdyz9Og"
      }
    },
    {
      "cell_type": "code",
      "source": [
        "inputs = Input((28, 28, 1))\n",
        "x = Conv2D(filters=16, kernel_size=(3, 3))(inputs)\n",
        "x = Flatten()(x)\n",
        "outputs = Dense(1)(x)\n",
        "\n",
        "model = Model(inputs, outputs)\n",
        "model.summary()"
      ],
      "metadata": {
        "colab": {
          "base_uri": "https://localhost:8080/"
        },
        "id": "or60JVL0JyYO",
        "outputId": "0e0bc985-086c-487f-e2ee-1d9d0f4b69b4"
      },
      "execution_count": null,
      "outputs": [
        {
          "output_type": "stream",
          "name": "stdout",
          "text": [
            "Model: \"model_6\"\n",
            "_________________________________________________________________\n",
            " Layer (type)                Output Shape              Param #   \n",
            "=================================================================\n",
            " input_6 (InputLayer)        [(None, 28, 28, 1)]       0         \n",
            "                                                                 \n",
            " conv2d (Conv2D)             (None, 26, 26, 16)        160       \n",
            "                                                                 \n",
            " flatten_1 (Flatten)         (None, 10816)             0         \n",
            "                                                                 \n",
            " dense_7 (Dense)             (None, 1)                 10817     \n",
            "                                                                 \n",
            "=================================================================\n",
            "Total params: 10,977\n",
            "Trainable params: 10,977\n",
            "Non-trainable params: 0\n",
            "_________________________________________________________________\n"
          ]
        }
      ]
    },
    {
      "cell_type": "markdown",
      "source": [
        "# Import a classical pre-trained model like VGG16"
      ],
      "metadata": {
        "id": "FKuzSgzKzonL"
      }
    },
    {
      "cell_type": "code",
      "source": [
        "from tensorflow.keras.applications.vgg16 import VGG16\n",
        "\n",
        "model = VGG16()\n",
        "model.summary()"
      ],
      "metadata": {
        "colab": {
          "base_uri": "https://localhost:8080/"
        },
        "id": "qf9NVV4qKdxv",
        "outputId": "b1a9bb58-ef96-4ea5-a488-22bfe0517fa8"
      },
      "execution_count": null,
      "outputs": [
        {
          "output_type": "stream",
          "name": "stdout",
          "text": [
            "Downloading data from https://storage.googleapis.com/tensorflow/keras-applications/vgg16/vgg16_weights_tf_dim_ordering_tf_kernels.h5\n",
            "553467096/553467096 [==============================] - 5s 0us/step\n",
            "Model: \"vgg16\"\n",
            "_________________________________________________________________\n",
            " Layer (type)                Output Shape              Param #   \n",
            "=================================================================\n",
            " input_7 (InputLayer)        [(None, 224, 224, 3)]     0         \n",
            "                                                                 \n",
            " block1_conv1 (Conv2D)       (None, 224, 224, 64)      1792      \n",
            "                                                                 \n",
            " block1_conv2 (Conv2D)       (None, 224, 224, 64)      36928     \n",
            "                                                                 \n",
            " block1_pool (MaxPooling2D)  (None, 112, 112, 64)      0         \n",
            "                                                                 \n",
            " block2_conv1 (Conv2D)       (None, 112, 112, 128)     73856     \n",
            "                                                                 \n",
            " block2_conv2 (Conv2D)       (None, 112, 112, 128)     147584    \n",
            "                                                                 \n",
            " block2_pool (MaxPooling2D)  (None, 56, 56, 128)       0         \n",
            "                                                                 \n",
            " block3_conv1 (Conv2D)       (None, 56, 56, 256)       295168    \n",
            "                                                                 \n",
            " block3_conv2 (Conv2D)       (None, 56, 56, 256)       590080    \n",
            "                                                                 \n",
            " block3_conv3 (Conv2D)       (None, 56, 56, 256)       590080    \n",
            "                                                                 \n",
            " block3_pool (MaxPooling2D)  (None, 28, 28, 256)       0         \n",
            "                                                                 \n",
            " block4_conv1 (Conv2D)       (None, 28, 28, 512)       1180160   \n",
            "                                                                 \n",
            " block4_conv2 (Conv2D)       (None, 28, 28, 512)       2359808   \n",
            "                                                                 \n",
            " block4_conv3 (Conv2D)       (None, 28, 28, 512)       2359808   \n",
            "                                                                 \n",
            " block4_pool (MaxPooling2D)  (None, 14, 14, 512)       0         \n",
            "                                                                 \n",
            " block5_conv1 (Conv2D)       (None, 14, 14, 512)       2359808   \n",
            "                                                                 \n",
            " block5_conv2 (Conv2D)       (None, 14, 14, 512)       2359808   \n",
            "                                                                 \n",
            " block5_conv3 (Conv2D)       (None, 14, 14, 512)       2359808   \n",
            "                                                                 \n",
            " block5_pool (MaxPooling2D)  (None, 7, 7, 512)         0         \n",
            "                                                                 \n",
            " flatten (Flatten)           (None, 25088)             0         \n",
            "                                                                 \n",
            " fc1 (Dense)                 (None, 4096)              102764544 \n",
            "                                                                 \n",
            " fc2 (Dense)                 (None, 4096)              16781312  \n",
            "                                                                 \n",
            " predictions (Dense)         (None, 1000)              4097000   \n",
            "                                                                 \n",
            "=================================================================\n",
            "Total params: 138,357,544\n",
            "Trainable params: 138,357,544\n",
            "Non-trainable params: 0\n",
            "_________________________________________________________________\n"
          ]
        }
      ]
    },
    {
      "cell_type": "markdown",
      "source": [
        "# Functions for training and testing an NN."
      ],
      "metadata": {
        "id": "F-u4T_o-zyZ2"
      }
    },
    {
      "cell_type": "code",
      "source": [
        "model.fit()\n",
        "model.evaluate()\n",
        "model.predict()"
      ],
      "metadata": {
        "id": "2CycESXpMBZp"
      },
      "execution_count": null,
      "outputs": []
    }
  ]
}